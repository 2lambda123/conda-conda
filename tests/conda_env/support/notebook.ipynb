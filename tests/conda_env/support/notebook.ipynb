<<<<<<< HEAD
{"nbformat": 3, "metadata": {"signature": "", "name": ""}, "nbformat_minor": 0, "worksheets": [{"cells": []}]}
=======
{"worksheets": [{"cells": []}], "nbformat_minor": 0, "metadata": {"name": "", "signature": ""}, "nbformat": 3}
>>>>>>> better check
